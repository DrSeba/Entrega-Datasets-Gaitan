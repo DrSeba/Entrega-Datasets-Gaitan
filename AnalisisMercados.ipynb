{
  "nbformat": 4,
  "nbformat_minor": 0,
  "metadata": {
    "colab": {
      "provenance": []
    },
    "kernelspec": {
      "name": "python3",
      "display_name": "Python 3"
    },
    "language_info": {
      "name": "python"
    }
  },
  "cells": [
    {
      "cell_type": "markdown",
      "source": [
        "Este conjunto de datos tiene la finalidad de analizar patrones de compra, segmentar clientes, optimizar estrategias de precios y promociones, y predecir ventas futuras utilizando técnicas de data science y machine learning."
      ],
      "metadata": {
        "id": "hLkvBm-MOxir"
      }
    },
    {
      "cell_type": "code",
      "execution_count": 1,
      "metadata": {
        "colab": {
          "base_uri": "https://localhost:8080/"
        },
        "id": "Xdl6pJXHOs-h",
        "outputId": "0e65c5c5-5225-4fe6-af7f-63d270a5e43b"
      },
      "outputs": [
        {
          "output_type": "stream",
          "name": "stdout",
          "text": [
            "  product_category       price  quantity  shipping_cost customer_location  \\\n",
            "0         Juguetes  307.476078         9      17.400505      Ubicación_26   \n",
            "1           Libros  277.881732         6      19.947763      Ubicación_72   \n",
            "2            Hogar  123.654077         3      36.536379      Ubicación_99   \n",
            "3           Libros  201.543938         7      39.439233      Ubicación_27   \n",
            "4           Libros  301.293404         9      46.823157      Ubicación_89   \n",
            "5             Ropa  253.415761         3      14.216108      Ubicación_18   \n",
            "6            Hogar  494.014905         2      40.909912      Ubicación_54   \n",
            "7            Hogar   76.855479         7      38.234572       Ubicación_1   \n",
            "8            Hogar  350.620831         7       7.870755      Ubicación_61   \n",
            "9           Libros  208.116196         4      22.425041       Ubicación_3   \n",
            "\n",
            "           payment_method purchase_date  return_rate      revenue  \n",
            "0                 Bitcoin    2020-01-01     0.990176  2767.284699  \n",
            "1                 Bitcoin    2020-01-02     0.075852  1667.290393  \n",
            "2      Tarjeta de crédito    2020-01-03     0.661791   370.962231  \n",
            "3  Transferencia bancaria    2020-01-04     0.448228  1410.807566  \n",
            "4      Tarjeta de crédito    2020-01-05     0.446602  2711.640638  \n",
            "5  Transferencia bancaria    2020-01-06     0.457646   760.247283  \n",
            "6                 Bitcoin    2020-01-07     0.258682   988.029810  \n",
            "7      Tarjeta de crédito    2020-01-08     0.715563   537.988351  \n",
            "8                  PayPal    2020-01-09     0.721577  2454.345820  \n",
            "9  Transferencia bancaria    2020-01-10     0.282397   832.464785  \n"
          ]
        }
      ],
      "source": [
        "import pandas as pd\n",
        "import numpy as np\n",
        "\n",
        "# Crear datos ficticios\n",
        "np.random.seed(42)\n",
        "num_rows = 2000\n",
        "product_categories = ['Electrónica', 'Ropa', 'Hogar', 'Juguetes', 'Libros']\n",
        "payment_methods = ['Tarjeta de crédito', 'PayPal', 'Transferencia bancaria', 'Bitcoin']\n",
        "\n",
        "data = {\n",
        "    'product_category': np.random.choice(product_categories, num_rows),\n",
        "    'price': np.random.uniform(10, 500, num_rows),\n",
        "    'quantity': np.random.randint(1, 11, num_rows),\n",
        "    'shipping_cost': np.random.uniform(5, 50, num_rows),\n",
        "    'customer_location': ['Ubicación_{}'.format(i) for i in np.random.randint(1, 101, num_rows)],\n",
        "    'payment_method': np.random.choice(payment_methods, num_rows),\n",
        "    'purchase_date': pd.date_range(start='2020-01-01', periods=num_rows, freq='D'),\n",
        "    'return_rate': np.random.uniform(0, 1, num_rows),\n",
        "}\n",
        "\n",
        "# Crear DataFrame\n",
        "online_sales_data = pd.DataFrame(data)\n",
        "\n",
        "# Calcular ingresos\n",
        "online_sales_data['revenue'] = online_sales_data['price'] * online_sales_data['quantity']\n",
        "\n",
        "# Ver las primeras 10 filas\n",
        "print(online_sales_data.head(10))\n"
      ]
    },
    {
      "cell_type": "code",
      "source": [
        "# Guardar el dataframe en un archivo .CSV\n",
        "\n",
        "online_sales_data.to_csv('online_sales_data.csv')"
      ],
      "metadata": {
        "id": "jq_A1JfnPUOM"
      },
      "execution_count": 3,
      "outputs": []
    },
    {
      "cell_type": "code",
      "source": [
        "# Ventas totales por categoría de producto:\n",
        "\n",
        "total_sales_by_category = online_sales_data.groupby('product_category')['revenue'].sum()\n",
        "print(total_sales_by_category)\n"
      ],
      "metadata": {
        "colab": {
          "base_uri": "https://localhost:8080/"
        },
        "id": "OzUT8Ai9OxSL",
        "outputId": "4ba5de8d-c545-4739-9515-ffdeae46b750"
      },
      "execution_count": 4,
      "outputs": [
        {
          "output_type": "stream",
          "name": "stdout",
          "text": [
            "product_category\n",
            "Electrónica    608347.936565\n",
            "Hogar          555183.457462\n",
            "Juguetes       557799.651101\n",
            "Libros         611570.007328\n",
            "Ropa           514592.012511\n",
            "Name: revenue, dtype: float64\n"
          ]
        }
      ]
    },
    {
      "cell_type": "code",
      "source": [
        "# Ventas promedio por método de pago:\n",
        "\n",
        "average_sales_by_payment_method = online_sales_data.groupby('payment_method')['revenue'].mean()\n",
        "print(average_sales_by_payment_method)\n"
      ],
      "metadata": {
        "colab": {
          "base_uri": "https://localhost:8080/"
        },
        "id": "eLmlZgqUQe_X",
        "outputId": "5c8f2998-fae3-41f7-b4af-b611ec3c4938"
      },
      "execution_count": 5,
      "outputs": [
        {
          "output_type": "stream",
          "name": "stdout",
          "text": [
            "payment_method\n",
            "Bitcoin                   1385.277439\n",
            "PayPal                    1430.203912\n",
            "Tarjeta de crédito        1403.756264\n",
            "Transferencia bancaria    1481.134079\n",
            "Name: revenue, dtype: float64\n"
          ]
        }
      ]
    },
    {
      "cell_type": "code",
      "source": [
        "# Total de ventas por ubicación del cliente:\n",
        "\n",
        "total_sales_by_location = online_sales_data.groupby('customer_location')['revenue'].sum()\n",
        "print(total_sales_by_location)\n"
      ],
      "metadata": {
        "colab": {
          "base_uri": "https://localhost:8080/"
        },
        "id": "RZruRi-xQmgH",
        "outputId": "5a59c8ac-c023-4b02-f16f-497d733f5de5"
      },
      "execution_count": 6,
      "outputs": [
        {
          "output_type": "stream",
          "name": "stdout",
          "text": [
            "customer_location\n",
            "Ubicación_1      29770.973321\n",
            "Ubicación_10     35150.578324\n",
            "Ubicación_100    38769.078147\n",
            "Ubicación_11     19622.516459\n",
            "Ubicación_12     19973.364241\n",
            "                     ...     \n",
            "Ubicación_95     28015.877828\n",
            "Ubicación_96     23874.467151\n",
            "Ubicación_97     39403.953721\n",
            "Ubicación_98     24029.074822\n",
            "Ubicación_99     28341.682843\n",
            "Name: revenue, Length: 100, dtype: float64\n"
          ]
        }
      ]
    },
    {
      "cell_type": "code",
      "source": [
        "# Cantidad promedio de productos vendidos por categoría de producto:\n",
        "\n",
        "average_quantity_by_category = online_sales_data.groupby('product_category')['quantity'].mean()\n",
        "print(average_quantity_by_category)\n"
      ],
      "metadata": {
        "colab": {
          "base_uri": "https://localhost:8080/"
        },
        "id": "3_XeRXGyQt81",
        "outputId": "cd91318a-b25c-46ba-f569-68dd872895eb"
      },
      "execution_count": 7,
      "outputs": [
        {
          "output_type": "stream",
          "name": "stdout",
          "text": [
            "product_category\n",
            "Electrónica    5.568675\n",
            "Hogar          5.643799\n",
            "Juguetes       5.747475\n",
            "Libros         5.665037\n",
            "Ropa           5.329177\n",
            "Name: quantity, dtype: float64\n"
          ]
        }
      ]
    },
    {
      "cell_type": "code",
      "source": [
        "# Tasa de devolución promedio por categoría de producto:\n",
        "\n",
        "average_return_rate_by_category = online_sales_data.groupby('product_category')['return_rate'].mean()\n",
        "print(average_return_rate_by_category)\n"
      ],
      "metadata": {
        "colab": {
          "base_uri": "https://localhost:8080/"
        },
        "id": "sGjgzBCSQz5v",
        "outputId": "ff3f03ff-df98-4c09-d270-840973b953d0"
      },
      "execution_count": 8,
      "outputs": [
        {
          "output_type": "stream",
          "name": "stdout",
          "text": [
            "product_category\n",
            "Electrónica    0.492741\n",
            "Hogar          0.523380\n",
            "Juguetes       0.479831\n",
            "Libros         0.491085\n",
            "Ropa           0.492160\n",
            "Name: return_rate, dtype: float64\n"
          ]
        }
      ]
    }
  ]
}