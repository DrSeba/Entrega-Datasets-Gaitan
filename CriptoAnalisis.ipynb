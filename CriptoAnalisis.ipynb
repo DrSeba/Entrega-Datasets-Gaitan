{
  "nbformat": 4,
  "nbformat_minor": 0,
  "metadata": {
    "colab": {
      "provenance": []
    },
    "kernelspec": {
      "name": "python3",
      "display_name": "Python 3"
    },
    "language_info": {
      "name": "python"
    }
  },
  "cells": [
    {
      "cell_type": "markdown",
      "source": [
        "Primero, obtengo datos sobre precios históricos de criptomonedas (como Bitcoin, Ethereum, Litecoin, etc.) y variables adicionales relacionadas, como volumen de operaciones, capitalización de mercado y métricas de redes sociales. Para esto utilizo la API de CoinGecko.\n",
        "Luego envuelvo todo en una funcion lo convierto en un DataFrame y le agrego las columnas relevantes, que van a ser precio, capitalizacion del mercado y volumen.\n",
        "\n",
        "Problema comercial y analítico: predecir la dirección futura de los precios de las criptomonedas, identificar oportunidades de inversión y gestionar el riesgo en una cartera de criptoactivos."
      ],
      "metadata": {
        "id": "TxwC5mf3Hji2"
      }
    },
    {
      "cell_type": "markdown",
      "source": [
        "## Funcion para obtener datos de la API y concatenar los activos en un unico dataframe"
      ],
      "metadata": {
        "id": "tthXrW7rMxs3"
      }
    },
    {
      "cell_type": "code",
      "execution_count": 1,
      "metadata": {
        "id": "80JfLvQ4F2Qc"
      },
      "outputs": [],
      "source": [
        "import pandas as pd\n",
        "import requests\n",
        "from datetime import datetime\n",
        "\n",
        "# Función para obtener datos históricos de CoinGecko\n",
        "def get_historical_data(coin_id, vs_currency='usd', days='max'):\n",
        "    url = f'https://api.coingecko.com/api/v3/coins/{coin_id}/market_chart?vs_currency={vs_currency}&days={days}&interval=daily'\n",
        "    response = requests.get(url)\n",
        "    data = response.json()\n",
        "\n",
        "    prices = data['prices']\n",
        "    market_caps = data['market_caps']\n",
        "    total_volumes = data['total_volumes']\n",
        "\n",
        "    # Convertir los datos en un DataFrame de pandas\n",
        "    df = pd.DataFrame(prices, columns=['timestamp', f'{coin_id}_price'])\n",
        "    df['timestamp'] = pd.to_datetime(df['timestamp'], unit='ms')\n",
        "    df.set_index('timestamp', inplace=True)\n",
        "    df[f'{coin_id}_market_cap'] = [mc[1] for mc in market_caps]\n",
        "    df[f'{coin_id}_total_volume'] = [tv[1] for tv in total_volumes]\n",
        "\n",
        "    return df\n",
        "\n",
        "# Lista de criptomonedas para obtener datos\n",
        "cryptos = ['bitcoin', 'ethereum', 'litecoin', 'ripple', 'cardano']\n",
        "\n",
        "# Obtener datos históricos para cada criptomoneda y combinarlos en un DataFrame\n",
        "crypto_data = None\n",
        "for crypto in cryptos:\n",
        "    temp_data = get_historical_data(crypto)\n",
        "    if crypto_data is None:\n",
        "        crypto_data = temp_data\n",
        "    else:\n",
        "        crypto_data = crypto_data.join(temp_data)\n",
        "\n",
        "# Guardar el DataFrame en un archivo CSV\n",
        "crypto_data.to_csv('crypto_historical_data.csv')\n"
      ]
    },
    {
      "cell_type": "code",
      "source": [
        "print(crypto_data)"
      ],
      "metadata": {
        "colab": {
          "base_uri": "https://localhost:8080/"
        },
        "id": "YZY92CQnHE2A",
        "outputId": "e9146f5e-d828-43fa-9b33-44e2507e40bf"
      },
      "execution_count": 4,
      "outputs": [
        {
          "output_type": "stream",
          "name": "stdout",
          "text": [
            "                     bitcoin_price  bitcoin_market_cap  bitcoin_total_volume  \\\n",
            "timestamp                                                                      \n",
            "2013-04-28 00:00:00     135.300000        1.500518e+09          0.000000e+00   \n",
            "2013-04-29 00:00:00     141.960000        1.575032e+09          0.000000e+00   \n",
            "2013-04-30 00:00:00     135.300000        1.501657e+09          0.000000e+00   \n",
            "2013-05-01 00:00:00     117.000000        1.298952e+09          0.000000e+00   \n",
            "2013-05-02 00:00:00     103.430000        1.148668e+09          0.000000e+00   \n",
            "...                            ...                 ...                   ...   \n",
            "2023-04-29 00:00:00   29339.994998        5.681539e+11          1.873080e+10   \n",
            "2023-04-30 00:00:00   29217.944047        5.657144e+11          9.711415e+09   \n",
            "2023-05-01 00:00:00   29362.056214        5.685135e+11          1.470701e+10   \n",
            "2023-05-02 00:00:00   28125.501156        5.444217e+11          1.998017e+10   \n",
            "2023-05-02 18:31:01   28615.175335        5.544156e+11          1.869104e+10   \n",
            "\n",
            "                     ethereum_price  ethereum_market_cap  \\\n",
            "timestamp                                                  \n",
            "2013-04-28 00:00:00             NaN                  NaN   \n",
            "2013-04-29 00:00:00             NaN                  NaN   \n",
            "2013-04-30 00:00:00             NaN                  NaN   \n",
            "2013-05-01 00:00:00             NaN                  NaN   \n",
            "2013-05-02 00:00:00             NaN                  NaN   \n",
            "...                             ...                  ...   \n",
            "2023-04-29 00:00:00     1894.428084         2.281523e+11   \n",
            "2023-04-30 00:00:00     1905.273852         2.294298e+11   \n",
            "2023-05-01 00:00:00     1885.391935         2.271866e+11   \n",
            "2023-05-02 00:00:00     1832.725799         2.206090e+11   \n",
            "2023-05-02 18:31:01             NaN                  NaN   \n",
            "\n",
            "                     ethereum_total_volume  litecoin_price  \\\n",
            "timestamp                                                    \n",
            "2013-04-28 00:00:00                    NaN        4.299830   \n",
            "2013-04-29 00:00:00                    NaN        4.359400   \n",
            "2013-04-30 00:00:00                    NaN        4.182950   \n",
            "2013-05-01 00:00:00                    NaN        3.649140   \n",
            "2013-05-02 00:00:00                    NaN        3.388790   \n",
            "...                                    ...             ...   \n",
            "2023-04-29 00:00:00           8.853392e+09       89.707686   \n",
            "2023-04-30 00:00:00           5.262010e+09       90.996830   \n",
            "2023-05-01 00:00:00           7.328083e+09       88.723579   \n",
            "2023-05-02 00:00:00           9.673378e+09       86.760258   \n",
            "2023-05-02 18:31:01                    NaN             NaN   \n",
            "\n",
            "                     litecoin_market_cap  litecoin_total_volume  ripple_price  \\\n",
            "timestamp                                                                       \n",
            "2013-04-28 00:00:00         7.377339e+07           0.000000e+00           NaN   \n",
            "2013-04-29 00:00:00         7.493691e+07           0.000000e+00           NaN   \n",
            "2013-04-30 00:00:00         7.203764e+07           0.000000e+00           NaN   \n",
            "2013-05-01 00:00:00         6.295799e+07           0.000000e+00           NaN   \n",
            "2013-05-02 00:00:00         5.856534e+07           0.000000e+00           NaN   \n",
            "...                                  ...                    ...           ...   \n",
            "2023-04-29 00:00:00         6.533495e+09           3.994848e+08      0.480183   \n",
            "2023-04-30 00:00:00         6.626734e+09           3.176730e+08      0.477759   \n",
            "2023-05-01 00:00:00         6.463262e+09           3.376567e+08      0.473067   \n",
            "2023-05-02 00:00:00         6.312961e+09           4.680211e+08      0.465231   \n",
            "2023-05-02 18:31:01                  NaN                    NaN           NaN   \n",
            "\n",
            "                     ripple_market_cap  ripple_total_volume  cardano_price  \\\n",
            "timestamp                                                                    \n",
            "2013-04-28 00:00:00                NaN                  NaN            NaN   \n",
            "2013-04-29 00:00:00                NaN                  NaN            NaN   \n",
            "2013-04-30 00:00:00                NaN                  NaN            NaN   \n",
            "2013-05-01 00:00:00                NaN                  NaN            NaN   \n",
            "2013-05-02 00:00:00                NaN                  NaN            NaN   \n",
            "...                                ...                  ...            ...   \n",
            "2023-04-29 00:00:00       2.483548e+10         1.253720e+09       0.405229   \n",
            "2023-04-30 00:00:00       2.472904e+10         6.302781e+08       0.402617   \n",
            "2023-05-01 00:00:00       2.449780e+10         5.387191e+08       0.398259   \n",
            "2023-05-02 00:00:00       2.406106e+10         1.011866e+09       0.387299   \n",
            "2023-05-02 18:31:01                NaN                  NaN            NaN   \n",
            "\n",
            "                     cardano_market_cap  cardano_total_volume  \n",
            "timestamp                                                      \n",
            "2013-04-28 00:00:00                 NaN                   NaN  \n",
            "2013-04-29 00:00:00                 NaN                   NaN  \n",
            "2013-04-30 00:00:00                 NaN                   NaN  \n",
            "2013-05-01 00:00:00                 NaN                   NaN  \n",
            "2013-05-02 00:00:00                 NaN                   NaN  \n",
            "...                                 ...                   ...  \n",
            "2023-04-29 00:00:00        1.419247e+10          2.458487e+08  \n",
            "2023-04-30 00:00:00        1.411833e+10          1.596470e+08  \n",
            "2023-05-01 00:00:00        1.397146e+10          2.375108e+08  \n",
            "2023-05-02 00:00:00        1.356772e+10          2.872999e+08  \n",
            "2023-05-02 18:31:01                 NaN                   NaN  \n",
            "\n",
            "[3656 rows x 15 columns]\n"
          ]
        }
      ]
    },
    {
      "cell_type": "markdown",
      "source": [
        "## Familiarizando el Dataframe"
      ],
      "metadata": {
        "id": "g0d7HLh8M9tf"
      }
    },
    {
      "cell_type": "code",
      "source": [
        "# Imprimir las columnas del DataFrame\n",
        "print(\"Columnas del DataFrame:\")\n",
        "print(crypto_data.columns)"
      ],
      "metadata": {
        "colab": {
          "base_uri": "https://localhost:8080/"
        },
        "id": "yERlPRAjJI2A",
        "outputId": "39283cef-28b3-46e8-f11a-3e5a7ac2ddc5"
      },
      "execution_count": 5,
      "outputs": [
        {
          "output_type": "stream",
          "name": "stdout",
          "text": [
            "Columnas del DataFrame:\n",
            "Index(['bitcoin_price', 'bitcoin_market_cap', 'bitcoin_total_volume',\n",
            "       'ethereum_price', 'ethereum_market_cap', 'ethereum_total_volume',\n",
            "       'litecoin_price', 'litecoin_market_cap', 'litecoin_total_volume',\n",
            "       'ripple_price', 'ripple_market_cap', 'ripple_total_volume',\n",
            "       'cardano_price', 'cardano_market_cap', 'cardano_total_volume'],\n",
            "      dtype='object')\n"
          ]
        }
      ]
    },
    {
      "cell_type": "code",
      "source": [
        "# Imprimir los primeros 10 datos del DataFrame\n",
        "print(\"\\nPrimeros 10 datos:\")\n",
        "print(crypto_data.head(10))"
      ],
      "metadata": {
        "colab": {
          "base_uri": "https://localhost:8080/"
        },
        "id": "3-xmYmKzJM1j",
        "outputId": "5e8aa776-e91e-4acd-8994-ed25d4987b24"
      },
      "execution_count": 6,
      "outputs": [
        {
          "output_type": "stream",
          "name": "stdout",
          "text": [
            "\n",
            "Primeros 10 datos:\n",
            "            bitcoin_price  bitcoin_market_cap  bitcoin_total_volume  \\\n",
            "timestamp                                                             \n",
            "2013-04-28         135.30        1.500518e+09                   0.0   \n",
            "2013-04-29         141.96        1.575032e+09                   0.0   \n",
            "2013-04-30         135.30        1.501657e+09                   0.0   \n",
            "2013-05-01         117.00        1.298952e+09                   0.0   \n",
            "2013-05-02         103.43        1.148668e+09                   0.0   \n",
            "2013-05-03          91.01        1.011066e+09                   0.0   \n",
            "2013-05-04         111.25        1.236352e+09                   0.0   \n",
            "2013-05-05         116.79        1.298378e+09                   0.0   \n",
            "2013-05-06         118.33        1.315992e+09                   0.0   \n",
            "2013-05-07         106.40        1.183766e+09                   0.0   \n",
            "\n",
            "            ethereum_price  ethereum_market_cap  ethereum_total_volume  \\\n",
            "timestamp                                                                \n",
            "2013-04-28             NaN                  NaN                    NaN   \n",
            "2013-04-29             NaN                  NaN                    NaN   \n",
            "2013-04-30             NaN                  NaN                    NaN   \n",
            "2013-05-01             NaN                  NaN                    NaN   \n",
            "2013-05-02             NaN                  NaN                    NaN   \n",
            "2013-05-03             NaN                  NaN                    NaN   \n",
            "2013-05-04             NaN                  NaN                    NaN   \n",
            "2013-05-05             NaN                  NaN                    NaN   \n",
            "2013-05-06             NaN                  NaN                    NaN   \n",
            "2013-05-07             NaN                  NaN                    NaN   \n",
            "\n",
            "            litecoin_price  litecoin_market_cap  litecoin_total_volume  \\\n",
            "timestamp                                                                \n",
            "2013-04-28         4.29983           73773387.0                    0.0   \n",
            "2013-04-29         4.35940           74936909.0                    0.0   \n",
            "2013-04-30         4.18295           72037636.0                    0.0   \n",
            "2013-05-01         3.64914           62957992.0                    0.0   \n",
            "2013-05-02         3.38879           58565340.0                    0.0   \n",
            "2013-05-03         2.78957           48265782.0                    0.0   \n",
            "2013-05-04         3.51708           60927537.0                    0.0   \n",
            "2013-05-05         3.63013           62963530.0                    0.0   \n",
            "2013-05-06         3.50733           60937067.0                    0.0   \n",
            "2013-05-07         3.21463           55968734.0                    0.0   \n",
            "\n",
            "            ripple_price  ripple_market_cap  ripple_total_volume  \\\n",
            "timestamp                                                          \n",
            "2013-04-28           NaN                NaN                  NaN   \n",
            "2013-04-29           NaN                NaN                  NaN   \n",
            "2013-04-30           NaN                NaN                  NaN   \n",
            "2013-05-01           NaN                NaN                  NaN   \n",
            "2013-05-02           NaN                NaN                  NaN   \n",
            "2013-05-03           NaN                NaN                  NaN   \n",
            "2013-05-04           NaN                NaN                  NaN   \n",
            "2013-05-05           NaN                NaN                  NaN   \n",
            "2013-05-06           NaN                NaN                  NaN   \n",
            "2013-05-07           NaN                NaN                  NaN   \n",
            "\n",
            "            cardano_price  cardano_market_cap  cardano_total_volume  \n",
            "timestamp                                                            \n",
            "2013-04-28            NaN                 NaN                   NaN  \n",
            "2013-04-29            NaN                 NaN                   NaN  \n",
            "2013-04-30            NaN                 NaN                   NaN  \n",
            "2013-05-01            NaN                 NaN                   NaN  \n",
            "2013-05-02            NaN                 NaN                   NaN  \n",
            "2013-05-03            NaN                 NaN                   NaN  \n",
            "2013-05-04            NaN                 NaN                   NaN  \n",
            "2013-05-05            NaN                 NaN                   NaN  \n",
            "2013-05-06            NaN                 NaN                   NaN  \n",
            "2013-05-07            NaN                 NaN                   NaN  \n"
          ]
        }
      ]
    },
    {
      "cell_type": "code",
      "source": [
        "# Imprimir los últimos 10 datos del DataFrame\n",
        "print(\"\\nÚltimos 10 datos:\")\n",
        "print(crypto_data.tail(10))"
      ],
      "metadata": {
        "colab": {
          "base_uri": "https://localhost:8080/"
        },
        "id": "Zorj91pRJQIl",
        "outputId": "f17806b4-b2e2-44b8-c430-87903e18efb4"
      },
      "execution_count": 7,
      "outputs": [
        {
          "output_type": "stream",
          "name": "stdout",
          "text": [
            "\n",
            "Últimos 10 datos:\n",
            "                     bitcoin_price  bitcoin_market_cap  bitcoin_total_volume  \\\n",
            "timestamp                                                                      \n",
            "2023-04-24 00:00:00   27606.578348        5.337532e+11          1.143565e+10   \n",
            "2023-04-25 00:00:00   27511.635682        5.322908e+11          1.644310e+10   \n",
            "2023-04-26 00:00:00   28351.218248        5.483597e+11          1.706182e+10   \n",
            "2023-04-27 00:00:00   28352.191321        5.486387e+11          3.054003e+10   \n",
            "2023-04-28 00:00:00   29483.521705        5.702580e+11          2.623860e+10   \n",
            "2023-04-29 00:00:00   29339.994998        5.681539e+11          1.873080e+10   \n",
            "2023-04-30 00:00:00   29217.944047        5.657144e+11          9.711415e+09   \n",
            "2023-05-01 00:00:00   29362.056214        5.685135e+11          1.470701e+10   \n",
            "2023-05-02 00:00:00   28125.501156        5.444217e+11          1.998017e+10   \n",
            "2023-05-02 18:31:01   28615.175335        5.544156e+11          1.869104e+10   \n",
            "\n",
            "                     ethereum_price  ethereum_market_cap  \\\n",
            "timestamp                                                  \n",
            "2023-04-24 00:00:00     1863.639142         2.241301e+11   \n",
            "2023-04-25 00:00:00     1842.630792         2.218193e+11   \n",
            "2023-04-26 00:00:00     1870.565223         2.250962e+11   \n",
            "2023-04-27 00:00:00     1867.589325         2.248074e+11   \n",
            "2023-04-28 00:00:00     1910.456779         2.299403e+11   \n",
            "2023-04-29 00:00:00     1894.428084         2.281523e+11   \n",
            "2023-04-30 00:00:00     1905.273852         2.294298e+11   \n",
            "2023-05-01 00:00:00     1885.391935         2.271866e+11   \n",
            "2023-05-02 00:00:00     1832.725799         2.206090e+11   \n",
            "2023-05-02 18:31:01             NaN                  NaN   \n",
            "\n",
            "                     ethereum_total_volume  litecoin_price  \\\n",
            "timestamp                                                    \n",
            "2023-04-24 00:00:00           7.375382e+09       86.879429   \n",
            "2023-04-25 00:00:00           9.177917e+09       88.374903   \n",
            "2023-04-26 00:00:00           9.669741e+09       91.232688   \n",
            "2023-04-27 00:00:00           1.613708e+10       88.103764   \n",
            "2023-04-28 00:00:00           1.730726e+10       89.705820   \n",
            "2023-04-29 00:00:00           8.853392e+09       89.707686   \n",
            "2023-04-30 00:00:00           5.262010e+09       90.996830   \n",
            "2023-05-01 00:00:00           7.328083e+09       88.723579   \n",
            "2023-05-02 00:00:00           9.673378e+09       86.760258   \n",
            "2023-05-02 18:31:01                    NaN             NaN   \n",
            "\n",
            "                     litecoin_market_cap  litecoin_total_volume  ripple_price  \\\n",
            "timestamp                                                                       \n",
            "2023-04-24 00:00:00         6.314904e+09           3.708071e+08      0.465374   \n",
            "2023-04-25 00:00:00         6.437872e+09           5.264114e+08      0.461374   \n",
            "2023-04-26 00:00:00         6.632436e+09           6.198538e+08      0.470112   \n",
            "2023-04-27 00:00:00         6.411632e+09           7.840216e+08      0.461767   \n",
            "2023-04-28 00:00:00         6.525091e+09           1.184529e+09      0.467124   \n",
            "2023-04-29 00:00:00         6.533495e+09           3.994848e+08      0.480183   \n",
            "2023-04-30 00:00:00         6.626734e+09           3.176730e+08      0.477759   \n",
            "2023-05-01 00:00:00         6.463262e+09           3.376567e+08      0.473067   \n",
            "2023-05-02 00:00:00         6.312961e+09           4.680211e+08      0.465231   \n",
            "2023-05-02 18:31:01                  NaN                    NaN           NaN   \n",
            "\n",
            "                     ripple_market_cap  ripple_total_volume  cardano_price  \\\n",
            "timestamp                                                                    \n",
            "2023-04-24 00:00:00       2.404365e+10         7.647933e+08       0.389096   \n",
            "2023-04-25 00:00:00       2.392304e+10         1.371507e+09       0.384051   \n",
            "2023-04-26 00:00:00       2.432871e+10         1.208296e+09       0.395085   \n",
            "2023-04-27 00:00:00       2.390053e+10         1.735111e+09       0.401301   \n",
            "2023-04-28 00:00:00       2.416210e+10         1.709074e+09       0.410319   \n",
            "2023-04-29 00:00:00       2.483548e+10         1.253720e+09       0.405229   \n",
            "2023-04-30 00:00:00       2.472904e+10         6.302781e+08       0.402617   \n",
            "2023-05-01 00:00:00       2.449780e+10         5.387191e+08       0.398259   \n",
            "2023-05-02 00:00:00       2.406106e+10         1.011866e+09       0.387299   \n",
            "2023-05-02 18:31:01                NaN                  NaN            NaN   \n",
            "\n",
            "                     cardano_market_cap  cardano_total_volume  \n",
            "timestamp                                                      \n",
            "2023-04-24 00:00:00        1.361499e+10          2.424252e+08  \n",
            "2023-04-25 00:00:00        1.346648e+10          2.907224e+08  \n",
            "2023-04-26 00:00:00        1.382044e+10          2.946825e+08  \n",
            "2023-04-27 00:00:00        1.406203e+10          5.201442e+08  \n",
            "2023-04-28 00:00:00        1.436950e+10          4.252457e+08  \n",
            "2023-04-29 00:00:00        1.419247e+10          2.458487e+08  \n",
            "2023-04-30 00:00:00        1.411833e+10          1.596470e+08  \n",
            "2023-05-01 00:00:00        1.397146e+10          2.375108e+08  \n",
            "2023-05-02 00:00:00        1.356772e+10          2.872999e+08  \n",
            "2023-05-02 18:31:01                 NaN                   NaN  \n"
          ]
        }
      ]
    },
    {
      "cell_type": "markdown",
      "source": [
        "Variables interesantes: precio de cierre, volumen de operaciones, capitalización de mercado, número de transacciones, sentimiento en redes sociales, volatilidad y correlación entre criptomonedas."
      ],
      "metadata": {
        "id": "vi3xYhUrIf5t"
      }
    },
    {
      "cell_type": "markdown",
      "source": [
        "## Datos interesantes: Precios de cierre, volumen, volatilidad y matriz de correlacion entre los activos Bitcoin y Ethereum."
      ],
      "metadata": {
        "id": "yP0XbrYlNIu_"
      }
    },
    {
      "cell_type": "code",
      "source": [
        "#Para ver precios de cierre de alguna cripto:\n",
        "coin_ids = ['bitcoin', 'ethereum']\n",
        "\n",
        "for coin_id in coin_ids:\n",
        "    print(f\"Precios de cierre de {coin_id}:\")\n",
        "    print(crypto_data[f'{coin_id}_price'])\n",
        "    print(\"\\n\")"
      ],
      "metadata": {
        "colab": {
          "base_uri": "https://localhost:8080/"
        },
        "id": "vN_AITBzKISb",
        "outputId": "a4965e45-8344-4acd-8b77-10532caf47b9"
      },
      "execution_count": 17,
      "outputs": [
        {
          "output_type": "stream",
          "name": "stdout",
          "text": [
            "Precios de cierre de bitcoin:\n",
            "timestamp\n",
            "2013-04-28 00:00:00      135.300000\n",
            "2013-04-29 00:00:00      141.960000\n",
            "2013-04-30 00:00:00      135.300000\n",
            "2013-05-01 00:00:00      117.000000\n",
            "2013-05-02 00:00:00      103.430000\n",
            "                           ...     \n",
            "2023-04-29 00:00:00    29339.994998\n",
            "2023-04-30 00:00:00    29217.944047\n",
            "2023-05-01 00:00:00    29362.056214\n",
            "2023-05-02 00:00:00    28125.501156\n",
            "2023-05-02 18:31:01    28615.175335\n",
            "Name: bitcoin_price, Length: 3656, dtype: float64\n",
            "\n",
            "\n",
            "Precios de cierre de ethereum:\n",
            "timestamp\n",
            "2013-04-28 00:00:00            NaN\n",
            "2013-04-29 00:00:00            NaN\n",
            "2013-04-30 00:00:00            NaN\n",
            "2013-05-01 00:00:00            NaN\n",
            "2013-05-02 00:00:00            NaN\n",
            "                          ...     \n",
            "2023-04-29 00:00:00    1894.428084\n",
            "2023-04-30 00:00:00    1905.273852\n",
            "2023-05-01 00:00:00    1885.391935\n",
            "2023-05-02 00:00:00    1832.725799\n",
            "2023-05-02 18:31:01            NaN\n",
            "Name: ethereum_price, Length: 3656, dtype: float64\n",
            "\n",
            "\n"
          ]
        }
      ]
    },
    {
      "cell_type": "code",
      "source": [
        "# Volumen total:\n",
        "\n",
        "for coin_id in coin_ids:\n",
        "    print(f\"Volumen total de {coin_id}:\")\n",
        "    print(crypto_data[f'{coin_id}_total_volume'])\n",
        "    print(\"\\n\")\n"
      ],
      "metadata": {
        "colab": {
          "base_uri": "https://localhost:8080/"
        },
        "id": "oRoTemMrKNUM",
        "outputId": "01f5e59f-d675-40aa-8696-0d28b2df5aa5"
      },
      "execution_count": 18,
      "outputs": [
        {
          "output_type": "stream",
          "name": "stdout",
          "text": [
            "Volumen total de bitcoin:\n",
            "timestamp\n",
            "2013-04-28 00:00:00    0.000000e+00\n",
            "2013-04-29 00:00:00    0.000000e+00\n",
            "2013-04-30 00:00:00    0.000000e+00\n",
            "2013-05-01 00:00:00    0.000000e+00\n",
            "2013-05-02 00:00:00    0.000000e+00\n",
            "                           ...     \n",
            "2023-04-29 00:00:00    1.873080e+10\n",
            "2023-04-30 00:00:00    9.711415e+09\n",
            "2023-05-01 00:00:00    1.470701e+10\n",
            "2023-05-02 00:00:00    1.998017e+10\n",
            "2023-05-02 18:31:01    1.869104e+10\n",
            "Name: bitcoin_total_volume, Length: 3656, dtype: float64\n",
            "\n",
            "\n",
            "Volumen total de ethereum:\n",
            "timestamp\n",
            "2013-04-28 00:00:00             NaN\n",
            "2013-04-29 00:00:00             NaN\n",
            "2013-04-30 00:00:00             NaN\n",
            "2013-05-01 00:00:00             NaN\n",
            "2013-05-02 00:00:00             NaN\n",
            "                           ...     \n",
            "2023-04-29 00:00:00    8.853392e+09\n",
            "2023-04-30 00:00:00    5.262010e+09\n",
            "2023-05-01 00:00:00    7.328083e+09\n",
            "2023-05-02 00:00:00    9.673378e+09\n",
            "2023-05-02 18:31:01             NaN\n",
            "Name: ethereum_total_volume, Length: 3656, dtype: float64\n",
            "\n",
            "\n"
          ]
        }
      ]
    },
    {
      "cell_type": "code",
      "source": [
        "# Calcular rendimientos diarios\n",
        "returns_data = crypto_data[[f'{coin_id}_price' for coin_id in coin_ids]].pct_change()\n",
        "\n",
        "# Calcular volatilidad (desviación estándar de los rendimientos)\n",
        "volatility = returns_data.std()\n",
        "\n",
        "print(\"Volatilidad:\")\n",
        "print(volatility)\n",
        "print(\"\\n\")"
      ],
      "metadata": {
        "colab": {
          "base_uri": "https://localhost:8080/"
        },
        "id": "q6NCys6IKzUM",
        "outputId": "13e0964c-b5c5-40c9-f85b-55f8b56af3d8"
      },
      "execution_count": 19,
      "outputs": [
        {
          "output_type": "stream",
          "name": "stdout",
          "text": [
            "Volatilidad:\n",
            "bitcoin_price     0.040345\n",
            "ethereum_price    0.060081\n",
            "dtype: float64\n",
            "\n",
            "\n"
          ]
        }
      ]
    },
    {
      "cell_type": "code",
      "source": [
        "# Calcular matriz de correlacion\n",
        "\n",
        "matriz_correlacion = returns_data.corr()\n",
        "\n",
        "print(\"Matriz de correlación:\")\n",
        "print(matriz_correlacion)\n",
        "print(\"\\n\")\n"
      ],
      "metadata": {
        "colab": {
          "base_uri": "https://localhost:8080/"
        },
        "id": "W8va3Qa5Mayq",
        "outputId": "c304e840-8a43-43e0-8a59-750db434d79f"
      },
      "execution_count": 20,
      "outputs": [
        {
          "output_type": "stream",
          "name": "stdout",
          "text": [
            "Matriz de correlación:\n",
            "                bitcoin_price  ethereum_price\n",
            "bitcoin_price        1.000000        0.558112\n",
            "ethereum_price       0.558112        1.000000\n",
            "\n",
            "\n"
          ]
        }
      ]
    },
    {
      "cell_type": "code",
      "source": [],
      "metadata": {
        "id": "q44rcfIUMcgS"
      },
      "execution_count": 20,
      "outputs": []
    }
  ]
}